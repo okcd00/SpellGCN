{
 "cells": [
  {
   "cell_type": "code",
   "execution_count": 1,
   "metadata": {},
   "outputs": [
    {
     "data": {
      "text/plain": [
       "274039"
      ]
     },
     "execution_count": 1,
     "metadata": {},
     "output_type": "execute_result"
    }
   ],
   "source": [
    "import json\n",
    "\n",
    "acg_samples = []\n",
    "for phase in ['train', 'dev', 'test']:\n",
    "    acg_samples += [sample for sample in json.load(open('/home/chendian/BBCM/datasets/csc/{}.json'.format(phase), 'r')) \n",
    "                    if sample['id'].startswith('cf')]\n",
    "len(acg_samples)        "
   ]
  },
  {
   "cell_type": "code",
   "execution_count": 2,
   "metadata": {},
   "outputs": [
    {
     "data": {
      "text/plain": [
       "271008"
      ]
     },
     "execution_count": 2,
     "metadata": {},
     "output_type": "execute_result"
    }
   ],
   "source": [
    "acg_samples_map = {sample['id']: sample for sample in acg_samples if sample['wrong_ids']}\n",
    "len(acg_samples_map)"
   ]
  },
  {
   "cell_type": "code",
   "execution_count": 6,
   "metadata": {},
   "outputs": [
    {
     "name": "stdout",
     "output_type": "stream",
     "text": [
      "\u001b[33mDEPRECATION: Python 2.7 will reach the end of its life on January 1st, 2020. Please upgrade your Python as Python 2.7 won't be maintained after that date. A future version of pip will drop support for Python 2.7. More details about Python 2 support in pip, can be found at https://pip.pypa.io/en/latest/development/release-process/#python-2-support\u001b[0m\n",
      "Collecting tqdm\n",
      "\u001b[?25l  Downloading https://files.pythonhosted.org/packages/63/f3/b7a1b8e40fd1bd049a34566eb353527bb9b8e9b98f8b6cf803bb64d8ce95/tqdm-4.62.3-py2.py3-none-any.whl (76kB)\n",
      "\u001b[K     |████████████████████████████████| 81kB 172kB/s eta 0:00:01\n",
      "\u001b[?25hInstalling collected packages: tqdm\n",
      "Successfully installed tqdm-4.62.3\n"
     ]
    }
   ],
   "source": [
    "!pip install tqdm"
   ]
  },
  {
   "cell_type": "code",
   "execution_count": 3,
   "metadata": {},
   "outputs": [
    {
     "name": "stderr",
     "output_type": "stream",
     "text": [
      "100%|█████████████████████████████████████████████████████████████████████████| 271008/271008 [00:04<00:00, 61285.37it/s]\n"
     ]
    }
   ],
   "source": [
    "from tqdm import tqdm\n",
    "\n",
    "texts_for_tia = []\n",
    "texts_for_tta = []\n",
    "for id, sample in tqdm(acg_samples_map.items()):\n",
    "    _t = \"(acg-id={})\\t{}\".format(sample['id'], sample['original_text'])\n",
    "    texts_for_tia.append(_t)\n",
    "    _a = \"(acg-id={})\".format(sample['id'])\n",
    "    for _i, (_o, _c) in enumerate(zip(sample['original_text'], sample['correct_text'])):\n",
    "        if _o != _c:\n",
    "            _a += \", {}, {}\".format(_i, _c)\n",
    "    texts_for_tta.append(_a)\n",
    "texts_for_tia.sort()\n",
    "texts_for_tta.sort()"
   ]
  },
  {
   "cell_type": "code",
   "execution_count": 4,
   "metadata": {},
   "outputs": [
    {
     "data": {
      "text/plain": [
       "(['(acg-id=cf-0)\\t联合国紧急事务首席协调官艾蒽兰表示，这是全球有史以来首次子灾难发生候这么短一段时间内，就筹集到这么高的金额。',\n",
       "  '(acg-id=cf-1)\\t日本大藏省一名官员坚称，日本仍忠于全球自由贸易贞经神。',\n",
       "  '(acg-id=cf-10)\\t麻萨诸塞州机场当局发言人怀特昨天说，李清鞋中的物质和工业与军事用的--4塑胶炸药性质一致，其量足已对飞机造成想当损害。',\n",
       "  '(acg-id=cf-100)\\t要救匿名的国防部宫员透露，台玩想购买军备的清单中包括四艘神盾级驱逐舰、四艘纪德级驱逐舰、一套第三代爱国者-3防空系统和其他武器。',\n",
       "  '(acg-id=cf-1000)\\t芮曼的一名兄弟禾乌伦回教党的另一名资深顶导干部奕被控叛国罪。',\n",
       "  '(acg-id=cf-10000)\\t印度、巴基斯坦昨天就两国对话时间表达成协议，分析家誉此为一项突破性进展，认为显示这两个该子对手有心认真解决彼此间的纠纷。',\n",
       "  '(acg-id=cf-100000)\\t卫霓世界杯冠军的法国足球队今天在巴黎北郊法兰西球场与苏格兰路进行的一场世界杯赛前暖身赛中，以五比零击败苏格兰队。',\n",
       "  '(acg-id=cf-100001)\\t而形成发阳的喷泉',\n",
       "  '(acg-id=cf-100002)\\t但莱斯表示，布希总统反对京都议定书的立场仍末动摇。',\n",
       "  '(acg-id=cf-100003)\\t沙芬在这个球季一直因受伤而苦脑，甚奎因而去年年底无法出战，错失第1种子的宝座他和尼浦斯柴德以前只交手过一次，就是尼浦斯柴德两年前退出法国公开赛的那场比赛。'],\n",
       " ['(acg-id=cf-0), 13, 基, 28, 在, 33, 后',\n",
       "  '(acg-id=cf-1), 23, 的, 24, 精',\n",
       "  '(acg-id=cf-10), 19, 德, 48, 以, 54, 相',\n",
       "  '(acg-id=cf-100), 1, 求, 8, 官, 14, 湾',\n",
       "  '(acg-id=cf-1000), 7, 和, 19, 领, 23, 亦',\n",
       "  '(acg-id=cf-10000), 43, 核',\n",
       "  '(acg-id=cf-100000), 1, 冕',\n",
       "  '(acg-id=cf-100001), 4, 光',\n",
       "  '(acg-id=cf-100002), 21, 未',\n",
       "  '(acg-id=cf-100003), 14, 恼, 17, 至'])"
      ]
     },
     "execution_count": 4,
     "metadata": {},
     "output_type": "execute_result"
    }
   ],
   "source": [
    "texts_for_tia[:10], texts_for_tta[:10]"
   ]
  },
  {
   "cell_type": "code",
   "execution_count": 5,
   "metadata": {},
   "outputs": [
    {
     "name": "stderr",
     "output_type": "stream",
     "text": [
      "100%|████████████████████████████████████████████████████████████████████████| 271008/271008 [00:00<00:00, 569057.14it/s]\n"
     ]
    }
   ],
   "source": [
    "with open('/home/chendian/SpellGCN/data/merged_bbcm/TrainingInputAll.txt', 'a') as f:\n",
    "    for line in tqdm(texts_for_tia):\n",
    "        f.write('{}\\n'.format(line))"
   ]
  },
  {
   "cell_type": "code",
   "execution_count": 6,
   "metadata": {},
   "outputs": [
    {
     "name": "stderr",
     "output_type": "stream",
     "text": [
      "100%|████████████████████████████████████████████████████████████████████████| 271008/271008 [00:00<00:00, 757966.61it/s]\n"
     ]
    }
   ],
   "source": [
    "with open('/home/chendian/SpellGCN/data/merged_bbcm/TrainingTruthAll.txt', 'a') as f:\n",
    "    for line in tqdm(texts_for_tta):\n",
    "        f.write('{}\\n'.format(line))"
   ]
  },
  {
   "cell_type": "code",
   "execution_count": 5,
   "metadata": {},
   "outputs": [
    {
     "name": "stdout",
     "output_type": "stream",
     "text": [
      "total 2.7G\n",
      "-rw-rw-r-- 1 chendian chendian 340K Oct 26 10:46 test.json\n",
      "-rw-rw-r-- 1 chendian chendian 1.2G Sep 18 21:41 train.wpos.json\n",
      "-rw-rw-r-- 1 chendian chendian 132M Sep 18 18:22 dev.wpos.json\n",
      "-rw-rw-r-- 1 chendian chendian 3.6M Sep 18 18:13 test.wpos.json\n",
      "-rw-rw-r-- 1 chendian chendian  98M Jul 29 16:01 train.json.ep9\n",
      "-rw-rw-r-- 1 chendian chendian  98M Jul 29 16:00 train.json.ep8\n",
      "-rw-rw-r-- 1 chendian chendian  98M Jul 29 16:00 train.json.ep7\n",
      "-rw-rw-r-- 1 chendian chendian  98M Jul 29 16:00 train.json.ep6\n",
      "-rw-rw-r-- 1 chendian chendian  98M Jul 29 15:59 train.json.ep5\n",
      "-rw-rw-r-- 1 chendian chendian  98M Jul 29 15:59 train.json.ep4\n",
      "-rw-rw-r-- 1 chendian chendian  98M Jul 29 15:59 train.json.ep3\n",
      "-rw-rw-r-- 1 chendian chendian  98M Jul 29 15:59 train.json.ep2\n",
      "-rw-rw-r-- 1 chendian chendian  98M Jul 29 15:58 train.json.ep10\n",
      "-rw-rw-r-- 1 chendian chendian  98M Jul 29 15:58 train.json.ep1\n",
      "-rw-rw-r-- 1 chendian chendian 450K Jul 27 14:41 14test_cd.json\n",
      "-rw-r--r-- 1 chendian chendian  97M Jul 27 14:41 train.sgml\n",
      "-rw-rw-r-- 1 chendian chendian 150K Jul 27 14:41 13train_cd.json\n",
      "-rw-rw-r-- 1 chendian chendian 767K Jul 27 14:41 15train_cd.json\n",
      "-rw-rw-r-- 1 chendian chendian 1.5M Jul 27 14:41 14train_cd.json\n",
      "-rw-rw-r-- 1 chendian chendian 169M Jul 27 14:41 ys_test_fdy.json\n",
      "-rw-rw-r-- 1 chendian chendian  98M Jul 27 14:40 train.json\n",
      "-rw-rw-r-- 1 chendian chendian  11M Jul 27 14:40 dev.json\n",
      "-rw-rw-r-- 1 chendian chendian  84M Jul 27 14:40 ys_test.json\n",
      "-rw-r--r-- 1 chendian chendian 340K Jul 27 14:40 15test_cd.json\n",
      "-rw-rw-r-- 1 chendian chendian 577K Jul 27 14:40 13test_cd.json\n"
     ]
    }
   ],
   "source": [
    "!ls -lht /home/chendian/BBCM/datasets/csc/"
   ]
  }
 ],
 "metadata": {
  "interpreter": {
   "hash": "2e982caec0d6777f83f0b4298e7608a1f9652d7caa655704468e66234e414b3a"
  },
  "kernelspec": {
   "display_name": "bbcm",
   "language": "python",
   "name": "bbcm"
  },
  "language_info": {
   "codemirror_mode": {
    "name": "ipython",
    "version": 3
   },
   "file_extension": ".py",
   "mimetype": "text/x-python",
   "name": "python",
   "nbconvert_exporter": "python",
   "pygments_lexer": "ipython3",
   "version": "3.7.10"
  }
 },
 "nbformat": 4,
 "nbformat_minor": 4
}
